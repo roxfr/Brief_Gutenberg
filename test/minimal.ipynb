{
 "cells": [
  {
   "cell_type": "code",
   "execution_count": 2,
   "metadata": {},
   "outputs": [],
   "source": [
    "import os\n",
    "from dotenv import load_dotenv\n",
    "\n",
    "\n",
    "def load_config():\n",
    "    load_dotenv()\n",
    "    config = {\n",
    "        \"CSV_INPUT_PATH\": os.path.join(\"../datas\", \"gutenberg.csv\"),\n",
    "        \"CSV_CLEANED_PATH\": os.path.join(\"../datas\", \"gutenberg2.csv\"),\n",
    "        \"EMBEDDINGS_FILE\": os.path.join(\"../models\", \"embeddings.csv\"),\n",
    "        \"DOCS_FILE\": os.path.join(\"../models\", \"docs.csv\"),\n",
    "        \"FAISS_INDEX\": os.path.join(\"../models\", \"faiss_index.index\"),\n",
    "        \"CHUNK_SIZE\": int(500),\n",
    "        \"AZURE_OPENAI_API_KEY\": os.getenv(\"AZURE_OPENAI_API_KEY\"),\n",
    "        \"AZURE_OPENAI_API_BASE\": os.getenv(\"AZURE_OPENAI_API_BASE\"), \n",
    "        \"AZURE_OPENAI_API_ENDPOINT\": os.getenv(\"AZURE_OPENAI_API_ENDPOINT\"),\n",
    "        \"AZURE_DEPLOYMENT_NAME\": os.getenv(\"AZURE_DEPLOYMENT_NAME\"),\n",
    "        \"AZURE_API_VERSION\": os.getenv(\"AZURE_API_VERSION\"),\n",
    "        \"AZURE_DEPLOYEMENT\": os.getenv(\"AZURE_DEPLOYEMENT\"),\n",
    "        \"LANGCHAIN_ENDPOINT\": os.getenv(\"LANGCHAIN_ENDPOINT\"),\n",
    "        \"LANGCHAIN_API_KEY\": os.getenv(\"LANGCHAIN_API_KEY\")\n",
    "    }\n",
    "    return config"
   ]
  },
  {
   "cell_type": "code",
   "execution_count": 6,
   "metadata": {},
   "outputs": [],
   "source": [
    "config = load_config()\n",
    "LANGCHAIN_ENDPOINT = config[\"LANGCHAIN_ENDPOINT\"]\n",
    "LANGCHAIN_API_KEY = config[\"LANGCHAIN_API_KEY\"]\n",
    "AZURE_OPENAI_API_BASE = config[\"AZURE_OPENAI_API_BASE\"]\n",
    "AZURE_OPENAI_API_KEY = config[\"AZURE_OPENAI_API_KEY\"]\n",
    "AZURE_DEPLOYEMENT = config[\"AZURE_DEPLOYEMENT\"]\n",
    "CHUNK_SIZE = config[\"CHUNK_SIZE\"]\n",
    "AZURE_OPENAI_API_ENDPOINT = config[\"AZURE_OPENAI_API_ENDPOINT\"]\n",
    "AZURE_DEPLOYMENT_NAME = config[\"AZURE_DEPLOYMENT_NAME\"]\n",
    "AZURE_OPENAI_API_KEY = config[\"AZURE_OPENAI_API_KEY\"]\n",
    "AZURE_API_VERSION = config[\"AZURE_API_VERSION\"]"
   ]
  },
  {
   "cell_type": "code",
   "execution_count": 7,
   "metadata": {},
   "outputs": [],
   "source": [
    "# RAG prompt\n",
    "from langchain import hub\n",
    "\n",
    "# Loads the latest version\n",
    "prompt = hub.pull(\"rlm/rag-prompt\")"
   ]
  },
  {
   "cell_type": "code",
   "execution_count": null,
   "metadata": {},
   "outputs": [],
   "source": [
    "# Load docs\n",
    "from langchain.document_loaders import CSVLoader\n",
    "\n",
    "loader = CSVLoader('../datas/gutenberg2.csv')\n",
    "data = loader.load()\n",
    "\n",
    "# Split\n",
    "from langchain.text_splitter import RecursiveCharacterTextSplitter\n",
    "\n",
    "text_splitter = RecursiveCharacterTextSplitter(chunk_size=500, chunk_overlap=0)\n",
    "all_splits = text_splitter.split_documents(data)\n",
    "\n",
    "# Store splits\n",
    "from langchain_openai.embeddings import AzureOpenAIEmbeddings  \n",
    "from langchain.vectorstores import Chroma\n",
    "\n",
    "embedding_model = AzureOpenAIEmbeddings(\n",
    "    azure_endpoint=AZURE_OPENAI_API_BASE,\n",
    "    openai_api_key=AZURE_OPENAI_API_KEY,\n",
    "    azure_deployment='text-embedding-ada-002',\n",
    "    chunk_size=1\n",
    ")\n",
    "\n",
    "vectorstore = Chroma.from_documents(documents=all_splits, embedding=embedding_model)\n",
    "\n",
    "# LLM\n",
    "from langchain_openai import AzureChatOpenAI\n",
    "\n",
    "llm = AzureChatOpenAI(\n",
    "            azure_endpoint=AZURE_OPENAI_API_ENDPOINT,\n",
    "            azure_deployment=AZURE_DEPLOYMENT_NAME,\n",
    "            openai_api_key=AZURE_OPENAI_API_KEY,\n",
    "            api_version=\"2023-05-15\",\n",
    "            temperature=0.0\n",
    "        )"
   ]
  },
  {
   "cell_type": "code",
   "execution_count": null,
   "metadata": {},
   "outputs": [],
   "source": [
    "# RetrievalQA\n",
    "from langchain.chains import RetrievalQA\n",
    "\n",
    "qa_chain = RetrievalQA.from_chain_type(\n",
    "    llm, retriever=vectorstore.as_retriever(), chain_type_kwargs={\"prompt\": prompt}\n",
    ")"
   ]
  },
  {
   "cell_type": "code",
   "execution_count": null,
   "metadata": {},
   "outputs": [],
   "source": [
    "question = \"Qui a écrit Paradise Regained ?\"\n",
    "result = qa_chain.invoke({\"query\": question})\n",
    "result"
   ]
  },
  {
   "cell_type": "code",
   "execution_count": null,
   "metadata": {},
   "outputs": [],
   "source": [
    "from langchain import RetrievalQA\n",
    "from langchain.document_loaders import CSVLoader\n",
    "from langchain.text_splitter import RecursiveCharacterTextSplitter\n",
    "from langchain.vectorstores import Chroma\n",
    "from langchain_openai import AzureChatOpenAI\n",
    "\n",
    "# Chargement des données\n",
    "loader = CSVLoader('path/to/gutenberg_cleaned_100.csv')\n",
    "data = loader.load()\n",
    "\n",
    "# Split des documents\n",
    "text_splitter = RecursiveCharacterTextSplitter(chunk_size=500, chunk_overlap=0)\n",
    "all_splits = text_splitter.split_documents(data)\n",
    "\n",
    "# Création d'un magasin de vecteurs\n",
    "vectorstore = Chroma.from_documents(documents=all_splits, embedding=embedding_model)\n",
    "\n",
    "# Configuration de l'agent\n",
    "llm = AzureChatOpenAI(azure_endpoint='...', azure_deployment='...', openai_api_key='...')\n",
    "qa_chain = RetrievalQA.from_chain_type(llm, retriever=vectorstore.as_retriever())\n",
    "\n",
    "# Fonction pour récupérer les personnages\n",
    "def extract_characters(summary):\n",
    "    import re\n",
    "    return re.findall(r'\\b[A-Z][a-z]*\\b', summary)\n",
    "\n",
    "# Fonction pour récupérer le texte d'un livre\n",
    "def fetch_book_text(book_title):\n",
    "    # Code pour télécharger le texte depuis Gutenberg\n",
    "    pass\n",
    "\n",
    "# Exemple d'interaction\n",
    "user_question = \"Quels sujets traite Paradise Regained ?\"\n",
    "result = qa_chain.invoke({\"query\": user_question})\n",
    "print(result)\n",
    "\n",
    "# Récupérer les personnages\n",
    "summary = \"Résumé du livre ici.\"\n",
    "characters = extract_characters(summary)\n",
    "print(characters)"
   ]
  }
 ],
 "metadata": {
  "kernelspec": {
   "display_name": "gutenberg",
   "language": "python",
   "name": "python3"
  },
  "language_info": {
   "codemirror_mode": {
    "name": "ipython",
    "version": 3
   },
   "file_extension": ".py",
   "mimetype": "text/x-python",
   "name": "python",
   "nbconvert_exporter": "python",
   "pygments_lexer": "ipython3",
   "version": "3.10.0"
  }
 },
 "nbformat": 4,
 "nbformat_minor": 2
}
