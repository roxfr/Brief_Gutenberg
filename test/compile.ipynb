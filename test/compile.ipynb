{
 "cells": [
  {
   "cell_type": "code",
   "execution_count": 1,
   "metadata": {},
   "outputs": [
    {
     "name": "stdout",
     "output_type": "stream",
     "text": [
      "Fichiers fusionnés dans all_code.py avec succès.\n"
     ]
    }
   ],
   "source": [
    "import os\n",
    "\n",
    "def merge_python_files(source_directory, output_file):\n",
    "    \"\"\"Fusionne tous les fichiers .py d'un dossier dans un seul fichier.\"\"\"\n",
    "    try:\n",
    "        with open(output_file, 'w', encoding='utf-8') as outfile:\n",
    "            filenames = sorted(f for f in os.listdir(source_directory) if f.endswith('.py'))\n",
    "            for filename in filenames:\n",
    "                file_path = os.path.join(source_directory, filename)\n",
    "                with open(file_path, 'r', encoding='utf-8') as infile:\n",
    "                    outfile.write(f\"# {filename}\\n\")\n",
    "                    outfile.write(infile.read())\n",
    "                    outfile.write(\"\\n\\n\")\n",
    "        print(f\"Fichiers fusionnés dans {output_file} avec succès.\")\n",
    "    except Exception as e:\n",
    "        print(f\"Une erreur est survenue lors de la fusion : {e}\")\n",
    "\n",
    "if __name__ == \"__main__\":\n",
    "    source_directory = '../chatbots'\n",
    "    output_file = 'all_code.py'\n",
    "    merge_python_files(source_directory, output_file)"
   ]
  }
 ],
 "metadata": {
  "kernelspec": {
   "display_name": "gutenberg",
   "language": "python",
   "name": "python3"
  },
  "language_info": {
   "codemirror_mode": {
    "name": "ipython",
    "version": 3
   },
   "file_extension": ".py",
   "mimetype": "text/x-python",
   "name": "python",
   "nbconvert_exporter": "python",
   "pygments_lexer": "ipython3",
   "version": "3.10.0"
  }
 },
 "nbformat": 4,
 "nbformat_minor": 2
}
